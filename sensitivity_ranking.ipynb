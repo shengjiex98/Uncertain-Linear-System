{
 "cells": [
  {
   "cell_type": "code",
   "execution_count": null,
   "metadata": {},
   "outputs": [],
   "source": [
    "import numpy as np\n",
    "import control as ctrl\n",
    "from sympy import symbols, Matrix\n",
    "from lib.OrderUncertainties import *\n",
    "from src.Benchmarks import Bench, sys_variables\n"
   ]
  },
  {
   "cell_type": "code",
   "execution_count": null,
   "metadata": {},
   "outputs": [],
   "source": [
    "def get_sensitivity(A, B):\n",
    "    mat = OrdUnc(A)\n",
    "    if mat.determineCase() == 1:\n",
    "        unc = mat.distinctPos(B)\n",
    "    else:\n",
    "        unc = mat.multSig(B)\n",
    "    return unc\n",
    "\n",
    "def all_sensitivity(bench, K):\n",
    "    # A_bar_i = A + BKE_i where E_i = I(n) with the (i, i) entry swapped to lambda\n",
    "    for i in range(bench.nx):\n",
    "        E = Matrix(np.eye(bench.nx))\n",
    "        E[i, i] = symbols('l')\n",
    "        A = bench.A + bench.B * K * E\n",
    "        return A\n",
    "\n",
    "def find_AB(sys, x):\n",
    "    nx = sys.A.shape[0]\n",
    "    l = symbols('l')\n",
    "    E = np.eye(nx)\n",
    "    E[x,x] = l\n",
    "    print(nx)\n",
    "\n",
    "def main():\n",
    "    pass\n",
    "\n",
    "F1 = sys_variables['F1']\n",
    "K = ctrl.lqr(F1.sysd, np.eye(F1.nx), np.eye(F1.nu))[0]\n",
    "print(K)\n",
    "# all_sensitivity(F1, K)\n",
    "\n",
    "# main()\n"
   ]
  }
 ],
 "metadata": {
  "language_info": {
   "name": "python"
  },
  "orig_nbformat": 4
 },
 "nbformat": 4,
 "nbformat_minor": 2
}

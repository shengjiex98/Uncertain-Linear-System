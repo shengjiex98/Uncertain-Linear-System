{
 "cells": [
  {
   "cell_type": "code",
   "execution_count": 2,
   "metadata": {},
   "outputs": [],
   "source": [
    "import numpy as np\n",
    "import control as ctrl\n",
    "\n",
    "from OrderUncertainties import *\n",
    "from Benchmarks import sys_variables\n"
   ]
  },
  {
   "cell_type": "code",
   "execution_count": 3,
   "metadata": {},
   "outputs": [],
   "source": [
    "def get_sensitivity(A, B):\n",
    "    mat = OrdUnc(A)\n",
    "    if mat.determineCase() == 1:\n",
    "        unc = mat.distinctPos(B)\n",
    "    else:\n",
    "        unc = mat.multSig(B)\n",
    "    return unc\n",
    "\n",
    "def all_sensitivity(bench, K, openloop=False):\n",
    "    # A_bar_i = A + BKE_i where E_i = I(n) with the (i, i) entry swapped to lambda\n",
    "    # A_bar_i = AE_i where E_i = I(n) with the (i, i) entry swapped to lambda\n",
    "    if openloop:\n",
    "        X = bench.A\n",
    "        Y = bench.A\n",
    "    else:\n",
    "        X = bench.A + bench.B @ K\n",
    "        Y = bench.B @ K\n",
    "\n",
    "    sensitivity = []\n",
    "    for i in range(bench.nx):\n",
    "        Yi = np.zeros((bench.nx, bench.nx))\n",
    "        Yi[:, i] = Y[:, i]\n",
    "        sensitivity.append(get_sensitivity(X, Yi))\n",
    "\n",
    "    return sensitivity\n"
   ]
  },
  {
   "cell_type": "code",
   "execution_count": 4,
   "metadata": {},
   "outputs": [
    {
     "data": {
      "text/plain": [
       "{'RC': [-0.059, 0.24],\n",
       " 'F1': [8.5, -2.4],\n",
       " 'DC': [0.00014, -0.00092],\n",
       " 'CS': [54.0, 12.0, 16.0, 0.4],\n",
       " 'EW': [9700.0, -3.4e-05],\n",
       " 'C1': [-0.00099],\n",
       " 'CC': [0.066, 0.14, -0.19],\n",
       " 'D5': [0.0, 0.0, 0.0, 0.0, 0.0]}"
      ]
     },
     "execution_count": 4,
     "metadata": {},
     "output_type": "execute_result"
    }
   ],
   "source": [
    "res = {}\n",
    "for (name, bench) in sys_variables.items():\n",
    "    K = ctrl.lqr(bench.sysd, np.eye(bench.nx), np.eye(bench.nu))[0]\n",
    "    res[name] = list(map(lambda x: float(f\"{x:.2g}\"), all_sensitivity(bench, K)))\n",
    "res"
   ]
  },
  {
   "cell_type": "code",
   "execution_count": 5,
   "metadata": {},
   "outputs": [
    {
     "data": {
      "text/plain": [
       "array([[ -4.8082,  -4.0336,   1.561 ,  -1.9059,  -0.7299],\n",
       "       [ -1.4137,  -7.2405,  -1.4615,  -3.4139,   4.4378],\n",
       "       [  7.1423,  12.4581,   0.348 ,   8.6344,  -6.9834],\n",
       "       [ -0.0349,   2.3922,   0.8171,   0.0909,  -3.5798],\n",
       "       [ -6.6104, -14.507 ,   1.1341,  -7.1915,   1.6098]])"
      ]
     },
     "execution_count": 5,
     "metadata": {},
     "output_type": "execute_result"
    }
   ],
   "source": [
    "sys_variables['D5'].A.round(4)"
   ]
  },
  {
   "cell_type": "code",
   "execution_count": 6,
   "metadata": {},
   "outputs": [
    {
     "data": {
      "text/plain": [
       "-340.00000000000074"
      ]
     },
     "execution_count": 6,
     "metadata": {},
     "output_type": "execute_result"
    }
   ],
   "source": [
    "np.linalg.det(sys_variables['D5'].A)"
   ]
  },
  {
   "cell_type": "code",
   "execution_count": 7,
   "metadata": {},
   "outputs": [
    {
     "data": {
      "text/plain": [
       "[3.4, 9.8, 0.64, 1.7, 3.4]"
      ]
     },
     "execution_count": 7,
     "metadata": {},
     "output_type": "execute_result"
    }
   ],
   "source": [
    "list(map(lambda x: float(f\"{x:.2g}\"), all_sensitivity(sys_variables['D5'], [], True)))"
   ]
  }
 ],
 "metadata": {
  "kernelspec": {
   "display_name": "py39",
   "language": "python",
   "name": "python3"
  },
  "language_info": {
   "codemirror_mode": {
    "name": "ipython",
    "version": 3
   },
   "file_extension": ".py",
   "mimetype": "text/x-python",
   "name": "python",
   "nbconvert_exporter": "python",
   "pygments_lexer": "ipython3",
   "version": "3.11.4"
  },
  "orig_nbformat": 4
 },
 "nbformat": 4,
 "nbformat_minor": 2
}

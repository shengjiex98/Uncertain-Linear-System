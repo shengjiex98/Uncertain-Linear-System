{
 "cells": [
  {
   "cell_type": "code",
   "execution_count": 1,
   "metadata": {},
   "outputs": [],
   "source": [
    "import numpy as np\n",
    "import control as ctrl\n",
    "\n",
    "from OrderUncertainties import *\n",
    "from Benchmarks import sys_variables\n"
   ]
  },
  {
   "cell_type": "code",
   "execution_count": 2,
   "metadata": {},
   "outputs": [],
   "source": [
    "def get_sensitivity(A, B):\n",
    "    mat = OrdUnc(A)\n",
    "    if mat.determineCase() == 1:\n",
    "        unc = mat.distinctPos(B)\n",
    "    else:\n",
    "        unc = mat.multSig(B)\n",
    "    return unc\n",
    "\n",
    "def all_sensitivity(bench, K, openloop=False):\n",
    "    # A_bar_i = A + BKE_i where E_i = I(n) with the (i, i) entry swapped to lambda\n",
    "    if openloop:\n",
    "        A = bench.A\n",
    "        B = bench.A\n",
    "    else:\n",
    "        A = bench.A + bench.B * K\n",
    "        B = bench.B * K\n",
    "\n",
    "    sensitivity = []\n",
    "    for i in range(bench.nx):\n",
    "        Bi = np.zeros((bench.nx, bench.nx))\n",
    "        Bi[:, i] = B[:, i]\n",
    "        sensitivity.append(get_sensitivity(A, Bi))\n",
    "\n",
    "    return sensitivity\n"
   ]
  },
  {
   "cell_type": "code",
   "execution_count": 3,
   "metadata": {},
   "outputs": [
    {
     "data": {
      "text/plain": [
       "{'RC': [-0.059, 0.24],\n",
       " 'F1': [8.5, -2.4],\n",
       " 'DC': [0.00014, -0.00092],\n",
       " 'CS': [54.0, 12.0, 16.0, 0.4],\n",
       " 'EW': [9700.0, -3.4e-05],\n",
       " 'C1': [-0.00099],\n",
       " 'CC': [0.066, 0.14, -0.19],\n",
       " 'D5': [0.0, 0.0, 0.0, 0.0, 0.0]}"
      ]
     },
     "execution_count": 3,
     "metadata": {},
     "output_type": "execute_result"
    }
   ],
   "source": [
    "res = {}\n",
    "for (name, bench) in sys_variables.items():\n",
    "    K = ctrl.lqr(bench.sysd, np.eye(bench.nx), np.eye(bench.nu))[0]\n",
    "    res[name] = list(map(lambda x: float(f\"{x:.2g}\"), all_sensitivity(bench, K)))\n",
    "res"
   ]
  },
  {
   "cell_type": "code",
   "execution_count": 5,
   "metadata": {},
   "outputs": [
    {
     "data": {
      "text/plain": [
       "array([[ 1.10799347, -1.57128874,  0.        , -0.        , -0.        ],\n",
       "       [ 1.76835237,  1.09396411,  0.        ,  0.        ,  0.        ],\n",
       "       [ 0.        , -0.        , -0.78107667, -3.40228385, -0.        ],\n",
       "       [-0.        ,  0.        ,  0.39233279,  0.56672104,  0.        ],\n",
       "       [-0.        , -0.        , -0.        ,  0.        , -1.64437194]])"
      ]
     },
     "execution_count": 5,
     "metadata": {},
     "output_type": "execute_result"
    }
   ],
   "source": [
    "sys_variables['D5'].A"
   ]
  },
  {
   "cell_type": "code",
   "execution_count": 4,
   "metadata": {},
   "outputs": [
    {
     "data": {
      "text/plain": [
       "[0.2, 0.34, 0.0, 0.0, 0.38]"
      ]
     },
     "execution_count": 4,
     "metadata": {},
     "output_type": "execute_result"
    }
   ],
   "source": [
    "list(map(lambda x: float(f\"{x:.2g}\"), all_sensitivity(sys_variables['D5'], [], True)))"
   ]
  }
 ],
 "metadata": {
  "kernelspec": {
   "display_name": "jupt",
   "language": "python",
   "name": "python3"
  },
  "language_info": {
   "codemirror_mode": {
    "name": "ipython",
    "version": 3
   },
   "file_extension": ".py",
   "mimetype": "text/x-python",
   "name": "python",
   "nbconvert_exporter": "python",
   "pygments_lexer": "ipython3",
   "version": "3.9.17"
  },
  "orig_nbformat": 4
 },
 "nbformat": 4,
 "nbformat_minor": 2
}
